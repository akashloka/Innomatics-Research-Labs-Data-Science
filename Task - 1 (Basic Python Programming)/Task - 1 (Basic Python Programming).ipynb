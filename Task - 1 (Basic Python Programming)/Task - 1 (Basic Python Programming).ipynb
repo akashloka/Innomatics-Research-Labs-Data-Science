{
 "cells": [
  {
   "cell_type": "markdown",
   "id": "25a99c71",
   "metadata": {},
   "source": [
    "## Author : Loka Akash Reddy\n",
    "### Innomatics Research Labs - Data Science October - 2021\n",
    "### Task 1 : Basic Python Programming\n",
    "### Task Link : https://www.hackerrank.com/domains/python?filters%5Bsubdomains%5D%5B%5D=py-introduction"
   ]
  },
  {
   "cell_type": "markdown",
   "id": "84e0063d",
   "metadata": {},
   "source": [
    "### Program 1 : Say \"Hello, World!\" With Python"
   ]
  },
  {
   "cell_type": "code",
   "execution_count": 1,
   "id": "10a4bb49",
   "metadata": {},
   "outputs": [
    {
     "name": "stdout",
     "output_type": "stream",
     "text": [
      "Hello, World!\n"
     ]
    }
   ],
   "source": [
    "print(\"Hello, World!\")"
   ]
  },
  {
   "cell_type": "markdown",
   "id": "1dc211a4",
   "metadata": {},
   "source": [
    "### Program 2 : Python If-Else"
   ]
  },
  {
   "cell_type": "code",
   "execution_count": 2,
   "id": "0207bbc0",
   "metadata": {},
   "outputs": [
    {
     "name": "stdout",
     "output_type": "stream",
     "text": [
      "24\n",
      "Not Weird\n"
     ]
    }
   ],
   "source": [
    "import math\n",
    "import os\n",
    "import random\n",
    "import re\n",
    "import sys\n",
    "\n",
    "\n",
    "\n",
    "if __name__ == '__main__':\n",
    "    n = int(input().strip())\n",
    "    if n%2==1:\n",
    "       print('Weird')\n",
    "    elif n%2==0 and (n>= 2 and n<6):\n",
    "       print('Not Weird')\n",
    "    elif n%2==0 and (n>6 and n<21):\n",
    "       print('Weird')\n",
    "    else:\n",
    "       print('Not Weird')\n"
   ]
  },
  {
   "cell_type": "markdown",
   "id": "e0b18b81",
   "metadata": {},
   "source": [
    "### Program 3 : Arithmetic Operators"
   ]
  },
  {
   "cell_type": "code",
   "execution_count": 3,
   "id": "283577d6",
   "metadata": {},
   "outputs": [
    {
     "name": "stdout",
     "output_type": "stream",
     "text": [
      "3\n",
      "2\n",
      "5\n",
      "1\n",
      "6\n"
     ]
    }
   ],
   "source": [
    "if __name__ == '__main__':\n",
    "    a = int(input())\n",
    "    b = int(input())\n",
    "    addition = a+b\n",
    "    subtraction = a-b\n",
    "    multiplication = a*b\n",
    "    print(addition)\n",
    "    print(subtraction)\n",
    "    print(multiplication)\n"
   ]
  },
  {
   "cell_type": "markdown",
   "id": "703b63a4",
   "metadata": {},
   "source": [
    "### Program 4 : Python: Division"
   ]
  },
  {
   "cell_type": "code",
   "execution_count": 4,
   "id": "0188b0e4",
   "metadata": {},
   "outputs": [
    {
     "name": "stdout",
     "output_type": "stream",
     "text": [
      "4\n",
      "3\n",
      "1\n",
      "1.3333333333333333\n"
     ]
    }
   ],
   "source": [
    "from __future__ import division\n",
    "\n",
    "if __name__ == '__main__':\n",
    "    a = int(input())\n",
    "    b = int(input())\n",
    "\n",
    "    print(a//b)\n",
    "    print(a/b)\n"
   ]
  },
  {
   "cell_type": "markdown",
   "id": "6a6f7004",
   "metadata": {},
   "source": [
    "### Program 5 : Loops"
   ]
  },
  {
   "cell_type": "code",
   "execution_count": 5,
   "id": "99a009cd",
   "metadata": {},
   "outputs": [
    {
     "name": "stdout",
     "output_type": "stream",
     "text": [
      "5\n",
      "0\n",
      "1\n",
      "4\n",
      "9\n",
      "16\n"
     ]
    }
   ],
   "source": [
    "if __name__ == '__main__':\n",
    "    n = int(input())\n",
    "    for i in range(n):\n",
    "        result = i**2\n",
    "        print(result)\n"
   ]
  },
  {
   "cell_type": "markdown",
   "id": "e796ad0a",
   "metadata": {},
   "source": [
    "### Program 6 : Write a function"
   ]
  },
  {
   "cell_type": "code",
   "execution_count": 6,
   "id": "22f32009",
   "metadata": {},
   "outputs": [
    {
     "name": "stdout",
     "output_type": "stream",
     "text": [
      "1990\n",
      "False\n"
     ]
    }
   ],
   "source": [
    "def is_leap(year):\n",
    "    leap = False\n",
    "    \n",
    "    if (year % 4) == 0:\n",
    "        if (year % 100) == 0:\n",
    "            if (year % 400) == 0:\n",
    "                return True\n",
    "            else:\n",
    "                return False\n",
    "        else:\n",
    "            return True\n",
    "    else:\n",
    "        return False\n",
    "\n",
    "    return leap\n",
    "\n",
    "year = int(input())\n",
    "print (is_leap(year))"
   ]
  },
  {
   "cell_type": "markdown",
   "id": "04d0e1ac",
   "metadata": {},
   "source": [
    "### Program 7 : Print Function"
   ]
  },
  {
   "cell_type": "code",
   "execution_count": 7,
   "id": "05f86d5c",
   "metadata": {},
   "outputs": [
    {
     "name": "stdout",
     "output_type": "stream",
     "text": [
      "3\n",
      "123"
     ]
    }
   ],
   "source": [
    "from __future__ import print_function\n",
    "\n",
    "if __name__ == '__main__':\n",
    "    n = int(input())\n",
    "    for i in range(1, n+1):\n",
    "        print(i, end='')"
   ]
  },
  {
   "cell_type": "markdown",
   "id": "00c97be7",
   "metadata": {},
   "source": [
    "## Thank you"
   ]
  }
 ],
 "metadata": {
  "kernelspec": {
   "display_name": "Python 3",
   "language": "python",
   "name": "python3"
  },
  "language_info": {
   "codemirror_mode": {
    "name": "ipython",
    "version": 3
   },
   "file_extension": ".py",
   "mimetype": "text/x-python",
   "name": "python",
   "nbconvert_exporter": "python",
   "pygments_lexer": "ipython3",
   "version": "3.8.8"
  }
 },
 "nbformat": 4,
 "nbformat_minor": 5
}

{
 "cells": [
  {
   "cell_type": "markdown",
   "id": "19e7e2b7",
   "metadata": {},
   "source": [
    "## Author : Loka Akash Reddy\n",
    "### Innomatics Research Labs - Data Science October - 2021\n",
    "### Task 2 : Data Types\n",
    "### Task Link : https://www.hackerrank.com/domains/python?filters%5Bsubdomains%5D%5B%5D=py-basic-data-types&filters%5Bsubdomains%5D%5B%5D=py-sets"
   ]
  },
  {
   "cell_type": "markdown",
   "id": "9c034c58",
   "metadata": {},
   "source": [
    "### Program 1 : List Comprehensions"
   ]
  },
  {
   "cell_type": "code",
   "execution_count": 1,
   "id": "16bbe486",
   "metadata": {},
   "outputs": [
    {
     "name": "stdout",
     "output_type": "stream",
     "text": [
      "1\n",
      "1\n",
      "1\n",
      "2\n",
      "[[0, 0, 0], [0, 0, 1], [0, 1, 0], [1, 0, 0], [1, 1, 1]]\n"
     ]
    }
   ],
   "source": [
    "if __name__ == '__main__':\n",
    "    x = int(input())\n",
    "    y = int(input())\n",
    "    z = int(input())\n",
    "    n = int(input())\n",
    "    ar = [[i, j, k] for i in range(x+1) for j in range(y+1) for k in range(z+1) if i+j+k!=n]\n",
    "    print(ar)"
   ]
  },
  {
   "cell_type": "markdown",
   "id": "7b97bb2b",
   "metadata": {},
   "source": [
    "### Program 2 : Find the Runner-Up Score!"
   ]
  },
  {
   "cell_type": "code",
   "execution_count": 2,
   "id": "396fd16a",
   "metadata": {},
   "outputs": [
    {
     "name": "stdout",
     "output_type": "stream",
     "text": [
      "5\n",
      "2 3 6 6 5\n",
      "5\n"
     ]
    }
   ],
   "source": [
    "if __name__ == '__main__':\n",
    "    n = int(input())\n",
    "    arr = map(int, input().split())\n",
    "    print(sorted(set(arr), reverse=True)[1])"
   ]
  },
  {
   "cell_type": "markdown",
   "id": "d6eb34cf",
   "metadata": {},
   "source": [
    "### Program 3 : Nested Lists"
   ]
  },
  {
   "cell_type": "code",
   "execution_count": 3,
   "id": "e9639290",
   "metadata": {},
   "outputs": [
    {
     "name": "stdout",
     "output_type": "stream",
     "text": [
      "5\n",
      "Harry\n",
      "37.21\n",
      "Berry\n",
      "37.21\n",
      "Tina\n",
      "37.2\n",
      "Akriti\n",
      "41\n",
      "Harsh\n",
      "39\n",
      "Berry\n",
      "Harry\n"
     ]
    }
   ],
   "source": [
    "if __name__ == '__main__':\n",
    "    students = []\n",
    "    scores = []\n",
    "    for _ in range(int(input())):\n",
    "        name = input()\n",
    "        score = float(input())\n",
    "        student = [name, score]\n",
    "        students.append(student)\n",
    "        scores.append(score)\n",
    "    second_min_score = sorted(set(scores))[1]\n",
    "    filtered_student_names = sorted([student[0] for student in students if student[1] == second_min_score])\n",
    "    print(\"\\n\".join(filtered_student_names))"
   ]
  },
  {
   "cell_type": "markdown",
   "id": "01319a51",
   "metadata": {},
   "source": [
    "### Program 4 : Finding the percentage"
   ]
  },
  {
   "cell_type": "code",
   "execution_count": 4,
   "id": "e5dba02c",
   "metadata": {},
   "outputs": [
    {
     "name": "stdout",
     "output_type": "stream",
     "text": [
      "3\n",
      "Krishna 67 68 69\n",
      "Arjun 70 98 63\n",
      "Malika 52 56 60\n",
      "Malika\n",
      "56.00\n"
     ]
    }
   ],
   "source": [
    "if __name__ == '__main__':\n",
    "    n = int(input())\n",
    "    student_marks = {}\n",
    "    for _ in range(n):\n",
    "        name, *line = input().split()\n",
    "        scores = list(map(float, line))\n",
    "        student_marks[name] = scores\n",
    "    query_name = input()\n",
    "    res = sum(student_marks[query_name])/len(student_marks[name])\n",
    "    print(\"{:.2f}\".format(res))"
   ]
  },
  {
   "cell_type": "markdown",
   "id": "ed1bfd77",
   "metadata": {},
   "source": [
    "### Program 5 : Lists"
   ]
  },
  {
   "cell_type": "code",
   "execution_count": 5,
   "id": "7d574c86",
   "metadata": {},
   "outputs": [
    {
     "name": "stdout",
     "output_type": "stream",
     "text": [
      "12\n",
      "insert 0 5\n",
      "insert 1 10\n",
      "insert 0 6 \n",
      "print\n",
      "[6, 5, 10]\n",
      "remove 6\n",
      "append 9\n",
      "append 1\n",
      "sort\n",
      "print\n",
      "[1, 5, 9, 10]\n",
      "pop\n",
      "reverse\n",
      "print\n",
      "[9, 5, 1]\n"
     ]
    }
   ],
   "source": [
    "if __name__ == '__main__':\n",
    "    N = int(input())\n",
    "    ar = []\n",
    "    for i in range(0, N):\n",
    "        tmp_str = input()\n",
    "        tmp_str_ar = tmp_str.strip().split(\" \")\n",
    "        cmd = tmp_str_ar[0]\n",
    "        if cmd == \"print\":\n",
    "            print(ar)\n",
    "        elif cmd == \"sort\":\n",
    "            ar.sort()\n",
    "        elif cmd == \"reverse\":\n",
    "            ar.reverse()\n",
    "        elif cmd == \"pop\":\n",
    "            ar.pop()\n",
    "        elif cmd == \"count\":\n",
    "            val = int(tmp_str_ar[1])\n",
    "            ar.count(val)\n",
    "        elif cmd == \"index\":\n",
    "            val = int(tmp_str_ar[1])\n",
    "            ar.index(val)\n",
    "        elif cmd == \"remove\":\n",
    "            val = int(tmp_str_ar[1])\n",
    "            ar.remove(val)\n",
    "        elif cmd == \"append\":\n",
    "            val = int(tmp_str_ar[1])\n",
    "            ar.append(val)\n",
    "        elif cmd == \"insert\":\n",
    "            pos = int(tmp_str_ar[1])\n",
    "            val = int(tmp_str_ar[2])\n",
    "            ar.insert(pos, val)"
   ]
  },
  {
   "cell_type": "markdown",
   "id": "21354cc9",
   "metadata": {},
   "source": [
    "### Program 6 : Tuples"
   ]
  },
  {
   "cell_type": "code",
   "execution_count": 6,
   "id": "163dbbfa",
   "metadata": {},
   "outputs": [
    {
     "name": "stdout",
     "output_type": "stream",
     "text": [
      "2\n",
      "1 2\n",
      "-3550055125485641917\n"
     ]
    }
   ],
   "source": [
    "if __name__ == '__main__':\n",
    "    n = int(input())\n",
    "    integer_list = map(int, input().split())\n",
    "    t = tuple(integer_list)\n",
    "    print(hash(t))"
   ]
  },
  {
   "cell_type": "markdown",
   "id": "af2f19ba",
   "metadata": {},
   "source": [
    "### Program 7 : No Idea!"
   ]
  },
  {
   "cell_type": "code",
   "execution_count": 7,
   "id": "24681d8c",
   "metadata": {},
   "outputs": [
    {
     "name": "stdout",
     "output_type": "stream",
     "text": [
      "3 2\n",
      "1 5 3\n",
      "3 1\n",
      "5 7\n",
      "1\n"
     ]
    }
   ],
   "source": [
    "from collections import Counter\n",
    "n, m = map(int,input().split())\n",
    "ar = list(map(int,input().split()))\n",
    "ar_set = set(ar)\n",
    "ar_counter = Counter(ar)\n",
    "set_a = set(map(int,input().split()))\n",
    "set_b = set(map(int,input().split()))\n",
    "intersect_ar_a = list(ar_set&set_a)\n",
    "intersect_ar_b = list(ar_set&set_b)\n",
    "result = 0\n",
    "for element in intersect_ar_a:\n",
    "    result += ar_counter[element]\n",
    "for element in intersect_ar_b:\n",
    "    result -= ar_counter[element]\n",
    "    \n",
    "print(result)"
   ]
  },
  {
   "cell_type": "markdown",
   "id": "553a193c",
   "metadata": {},
   "source": [
    "### Program 8 : Symmetric Difference"
   ]
  },
  {
   "cell_type": "code",
   "execution_count": 8,
   "id": "aee117ea",
   "metadata": {},
   "outputs": [
    {
     "name": "stdout",
     "output_type": "stream",
     "text": [
      "4\n",
      "2 4 5 9\n",
      "4\n",
      "2 4 11 12\n",
      "5\n",
      "9\n",
      "11\n",
      "12\n"
     ]
    }
   ],
   "source": [
    "m = int(input())\n",
    "set_a = set(map(int, input().split()))\n",
    "n = int(input())\n",
    "set_b = set(map(int, input().split()))\n",
    "set_a_diff = set_a.difference(set_b)\n",
    "set_b_diff = set_b.difference(set_a)\n",
    "for i in sorted(set_a_diff.union(set_b_diff)):\n",
    "    print(i)"
   ]
  },
  {
   "cell_type": "markdown",
   "id": "1b5c5f48",
   "metadata": {},
   "source": [
    "### Program 9 : Set .add()"
   ]
  },
  {
   "cell_type": "code",
   "execution_count": 9,
   "id": "b58d52f5",
   "metadata": {},
   "outputs": [
    {
     "name": "stdout",
     "output_type": "stream",
     "text": [
      "7\n",
      "UK\n",
      "China\n",
      "USA\n",
      "France\n",
      "New Zealand\n",
      "UK\n",
      "France\n",
      "5\n"
     ]
    }
   ],
   "source": [
    "n = int(input())\n",
    "country_set = set()\n",
    "for i in range(n):\n",
    "    country_name = input()\n",
    "    country_set.add(country_name)\n",
    "print(len(country_set))"
   ]
  },
  {
   "cell_type": "markdown",
   "id": "43c192fc",
   "metadata": {},
   "source": [
    "### Program 10 : Set .discard(), .remove() & .pop()"
   ]
  },
  {
   "cell_type": "code",
   "execution_count": 10,
   "id": "767b2fbe",
   "metadata": {},
   "outputs": [
    {
     "name": "stdout",
     "output_type": "stream",
     "text": [
      "9\n",
      "1 2 3 4 5 6 7 8 9\n",
      "10\n",
      "pop\n",
      "remove 9\n",
      "discard 9\n",
      "discard 8\n",
      "remove 7\n",
      "pop\n",
      "discard 6\n",
      "remove 5\n",
      "pop\n",
      "discard 5\n",
      "4\n"
     ]
    }
   ],
   "source": [
    "n = int(input())\n",
    "s = set(map(int, input().split())) \n",
    "n = int(input())\n",
    "for i in range(n):\n",
    "    cmd = list(input().split(' '))\n",
    "    if (len(cmd) == 1):\n",
    "        s.pop()\n",
    "    else:\n",
    "        value = int(cmd[1])\n",
    "        s.discard(value)\n",
    "print(sum(s))"
   ]
  },
  {
   "cell_type": "markdown",
   "id": "00f6b556",
   "metadata": {},
   "source": [
    "### Program 11 : Set .union() Operation"
   ]
  },
  {
   "cell_type": "code",
   "execution_count": 11,
   "id": "8e4fa426",
   "metadata": {},
   "outputs": [
    {
     "name": "stdout",
     "output_type": "stream",
     "text": [
      "9\n",
      "1 2 3 4 5 6 7 8 9 9\n",
      "9\n",
      "10 1 2 3 11 21 55 6 8\n",
      "13\n"
     ]
    }
   ],
   "source": [
    "n = input()\n",
    "eng = set(map(int,input().split()))\n",
    "b = input()\n",
    "fre = set(map(int,input().split()))\n",
    "print(len(eng.union(fre)))"
   ]
  },
  {
   "cell_type": "markdown",
   "id": "20a3ccc0",
   "metadata": {},
   "source": [
    "### Program 12 : Set .intersection() Operation"
   ]
  },
  {
   "cell_type": "code",
   "execution_count": 12,
   "id": "39c62a75",
   "metadata": {},
   "outputs": [
    {
     "name": "stdout",
     "output_type": "stream",
     "text": [
      "9\n",
      "1 2 3 4 5 6 7 8 9\n",
      "9\n",
      "10 1 2 3 11 21 55 6 8\n",
      "5\n"
     ]
    }
   ],
   "source": [
    "e = int(input())\n",
    "eng = set(map(int,input().split()))\n",
    "f = int(input())\n",
    "fre = set(map(int,input().split()))\n",
    "print(len(eng & fre))"
   ]
  },
  {
   "cell_type": "markdown",
   "id": "4969e1e8",
   "metadata": {},
   "source": [
    "### Program 13 : Set .difference() Operation"
   ]
  },
  {
   "cell_type": "code",
   "execution_count": 13,
   "id": "3572f69c",
   "metadata": {},
   "outputs": [
    {
     "name": "stdout",
     "output_type": "stream",
     "text": [
      "9\n",
      "1 2 3 4 5 6 7 8 9\n",
      "9\n",
      "10 1 2 3 11 21 55 6 8\n",
      "4\n"
     ]
    }
   ],
   "source": [
    "e = int(input())\n",
    "eng = set(map(int,input().split())) \n",
    "f = int(input())\n",
    "fre = set(map(int,input().split()))\n",
    "print(len(eng - fre))"
   ]
  },
  {
   "cell_type": "markdown",
   "id": "e7ff0077",
   "metadata": {},
   "source": [
    "### Program 14 : Set .symmetric_difference() Operation"
   ]
  },
  {
   "cell_type": "code",
   "execution_count": 14,
   "id": "9123451f",
   "metadata": {},
   "outputs": [
    {
     "name": "stdout",
     "output_type": "stream",
     "text": [
      "9\n",
      "1 2 3 4 5 6 7 8 9\n",
      "9\n",
      "10 1 2 3 11 21 55 6 8\n",
      "8\n"
     ]
    }
   ],
   "source": [
    "e = int(input())\n",
    "eng = set(map(int,input().split())) \n",
    "f = int(input())\n",
    "fre = set(map(int,input().split()))\n",
    "print(len(eng ^ fre))"
   ]
  },
  {
   "cell_type": "markdown",
   "id": "1312d349",
   "metadata": {},
   "source": [
    "### Program 15 : Set Mutations"
   ]
  },
  {
   "cell_type": "code",
   "execution_count": 16,
   "id": "6bff8a33",
   "metadata": {},
   "outputs": [
    {
     "name": "stdout",
     "output_type": "stream",
     "text": [
      "16\n",
      "1 2 3 4 5 6 7 8 9 10 11 12 13 14 24 52\n",
      "4\n",
      "intersection_update 10\n",
      " 2 3 5 6 8 9 1 4 7 11\n",
      "update 2\n",
      "55 66\n",
      "symmetric_difference_update 5\n",
      "22 7 35 62 58\n",
      "difference_update 7\n",
      "11 22 35 55 58 62 66\n",
      "38\n"
     ]
    }
   ],
   "source": [
    "n = int(input())\n",
    "a = set(map(int,input().split()))\n",
    "N = int(input())\n",
    "for i in range(N):\n",
    "    cmd = input().split()\n",
    "    opt = cmd[0]\n",
    "    s = set(map(int,input().split()))\n",
    "    if (opt == 'update'):\n",
    "        a |= s\n",
    "    elif (opt == 'intersection_update'):\n",
    "        a &= s\n",
    "    elif (opt == 'difference_update'):\n",
    "        a -= s\n",
    "    elif (opt == 'symmetric_difference_update'):\n",
    "        a ^= s\n",
    "print(sum(a))"
   ]
  },
  {
   "cell_type": "markdown",
   "id": "3815be82",
   "metadata": {},
   "source": [
    "### Program 16 : The Captain's Room"
   ]
  },
  {
   "cell_type": "code",
   "execution_count": 17,
   "id": "8a66e7d5",
   "metadata": {},
   "outputs": [
    {
     "name": "stdout",
     "output_type": "stream",
     "text": [
      "5\n",
      "1 2 3 6 5 4 4 2 5 3 6 1 6 5 3 2 4 1 2 5 1 4 3 6 8 4 3 1 5 6 2\n",
      "8\n"
     ]
    }
   ],
   "source": [
    "k = int(input())\n",
    "room_number_list = list(map(int,input().split()))\n",
    "room_number_set = set(room_number_list)\n",
    "room_number_list_sum = sum(room_number_list)\n",
    "room_number_set_sum = sum(room_number_set) * k\n",
    "diff = room_number_set_sum - room_number_list_sum\n",
    "for i in room_number_set:\n",
    "    if diff == ((k-1)*i):\n",
    "        print(i)\n",
    "        break"
   ]
  },
  {
   "cell_type": "markdown",
   "id": "b1554d7f",
   "metadata": {},
   "source": [
    "### Program 17 : Check Subset"
   ]
  },
  {
   "cell_type": "code",
   "execution_count": 18,
   "id": "d671cf8e",
   "metadata": {},
   "outputs": [
    {
     "name": "stdout",
     "output_type": "stream",
     "text": [
      "3\n",
      "5\n",
      "1 2 3 5 6\n",
      "9\n",
      " 9 8 5 6 3 2 1 4 7\n",
      "True\n",
      "1\n",
      "2\n",
      "5\n",
      "3 6 5 4 1\n",
      "False\n",
      "7\n",
      "1 2 3 5 6 8 9\n",
      "3\n",
      "9 8 2\n",
      "False\n"
     ]
    }
   ],
   "source": [
    "for i in range(int(input())): #More than 4 lines will result in 0 score. Blank lines won't be counted. \n",
    "    a = int(input()); A = set(input().split()) \n",
    "    b = int(input()); B = set(input().split())\n",
    "    print((A & B) == A)"
   ]
  },
  {
   "cell_type": "markdown",
   "id": "b2ee8c6e",
   "metadata": {},
   "source": [
    "### Program 18 : Check Strict Superset"
   ]
  },
  {
   "cell_type": "code",
   "execution_count": 19,
   "id": "b837467f",
   "metadata": {},
   "outputs": [
    {
     "name": "stdout",
     "output_type": "stream",
     "text": [
      "1 2 3 4 5 6 7 8 9 10 11 12 23 45 84 78\n",
      "2\n",
      "1 2 3 4 5\n",
      "100 11 12\n",
      "False\n"
     ]
    }
   ],
   "source": [
    "A  = set(input().split())\n",
    "n = int(input())\n",
    "check = True\n",
    "for i in range(n):\n",
    "    s = set(input().split())\n",
    "    if (s&A != s) or (s == A):\n",
    "        check = False\n",
    "        break\n",
    "print(check)"
   ]
  },
  {
   "cell_type": "markdown",
   "id": "95af17b3",
   "metadata": {},
   "source": [
    "## Thank you"
   ]
  }
 ],
 "metadata": {
  "kernelspec": {
   "display_name": "Python 3",
   "language": "python",
   "name": "python3"
  },
  "language_info": {
   "codemirror_mode": {
    "name": "ipython",
    "version": 3
   },
   "file_extension": ".py",
   "mimetype": "text/x-python",
   "name": "python",
   "nbconvert_exporter": "python",
   "pygments_lexer": "ipython3",
   "version": "3.8.8"
  }
 },
 "nbformat": 4,
 "nbformat_minor": 5
}

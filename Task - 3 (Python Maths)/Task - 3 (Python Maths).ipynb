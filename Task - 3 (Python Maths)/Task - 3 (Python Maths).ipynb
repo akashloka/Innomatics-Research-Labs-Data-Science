{
 "cells": [
  {
   "cell_type": "markdown",
   "id": "9b493bbf",
   "metadata": {},
   "source": [
    "## Author : Loka Akash Reddy\n",
    "### Innomatics Research Labs - Data Science October - 2021\n",
    "### Task 3 : Python Maths\n",
    "### Task Link : https://www.hackerrank.com/domains/python?filters%5Bsubdomains%5D%5B%5D=py-math"
   ]
  },
  {
   "cell_type": "markdown",
   "id": "a6a8f727",
   "metadata": {},
   "source": [
    "### Program 1 : Find Angle MBC"
   ]
  },
  {
   "cell_type": "code",
   "execution_count": 1,
   "id": "84081f4a",
   "metadata": {},
   "outputs": [
    {
     "name": "stdout",
     "output_type": "stream",
     "text": [
      "10\n",
      "10\n",
      "45°\n"
     ]
    }
   ],
   "source": [
    "import math\n",
    "ab = float(input())\n",
    "bc = float(input())\n",
    "ac = math.sqrt((ab*ab)+(bc*bc))\n",
    "bm = ac / 2.0\n",
    "mc = bm\n",
    "#let, \n",
    "b = mc\n",
    "c = bm\n",
    "a = bc\n",
    "#where b=c\n",
    "angel_b_radian = math.acos(a / (2*b))\n",
    "angel_b_degree = int(round((180 * angel_b_radian) / math.pi))\n",
    "output_str = str(angel_b_degree)+'°'\n",
    "print(output_str)"
   ]
  },
  {
   "cell_type": "markdown",
   "id": "9a15bf50",
   "metadata": {},
   "source": [
    "### Program 2 : Triangle Quest 2"
   ]
  },
  {
   "cell_type": "code",
   "execution_count": 2,
   "id": "254b211e",
   "metadata": {},
   "outputs": [
    {
     "name": "stdout",
     "output_type": "stream",
     "text": [
      "5\n",
      "1.0\n",
      "121.0\n",
      "12321.0\n",
      "1234321.0\n",
      "123454321.0\n"
     ]
    }
   ],
   "source": [
    "for i in range(1,int(input())+1):\n",
    "    print(((10**i-1)/(9))**2)"
   ]
  },
  {
   "cell_type": "markdown",
   "id": "9a03a578",
   "metadata": {},
   "source": [
    "### Program 3 : Mod Divmod"
   ]
  },
  {
   "cell_type": "code",
   "execution_count": 3,
   "id": "b31aad95",
   "metadata": {},
   "outputs": [
    {
     "name": "stdout",
     "output_type": "stream",
     "text": [
      "177\n",
      "10\n",
      "17\n",
      "7\n",
      "(17, 7)\n"
     ]
    }
   ],
   "source": [
    "a=int(input())\n",
    "b=int(input())\n",
    "d=divmod(a,b)\n",
    "print (d[0])\n",
    "print (d[1])\n",
    "print (d)"
   ]
  },
  {
   "cell_type": "markdown",
   "id": "41603bcc",
   "metadata": {},
   "source": [
    "### Program 4 : Power - Mod Power"
   ]
  },
  {
   "cell_type": "code",
   "execution_count": 4,
   "id": "0e0c3244",
   "metadata": {},
   "outputs": [
    {
     "name": "stdout",
     "output_type": "stream",
     "text": [
      "3\n",
      "4\n",
      "5\n",
      "81\n",
      "1\n"
     ]
    }
   ],
   "source": [
    "a=int(input())\n",
    "b=int(input())\n",
    "c=int(input())\n",
    "print (pow(a,b))\n",
    "print (pow(a,b,c))"
   ]
  },
  {
   "cell_type": "markdown",
   "id": "c21c9d9e",
   "metadata": {},
   "source": [
    "### Program 5 : Integers Come In All Sizes"
   ]
  },
  {
   "cell_type": "code",
   "execution_count": 5,
   "id": "b80b4a84",
   "metadata": {},
   "outputs": [
    {
     "name": "stdout",
     "output_type": "stream",
     "text": [
      "9\n",
      "29\n",
      "7\n",
      "27\n",
      "4710194409608608369201743232\n"
     ]
    }
   ],
   "source": [
    "a=int(input())\n",
    "b=int(input())\n",
    "c=int(input())\n",
    "d=int(input())\n",
    "print (pow(a,b)+pow(c,d))"
   ]
  },
  {
   "cell_type": "markdown",
   "id": "36d32664",
   "metadata": {},
   "source": [
    "### Program 6 : Triangle Quest"
   ]
  },
  {
   "cell_type": "code",
   "execution_count": 6,
   "id": "55327fb4",
   "metadata": {},
   "outputs": [
    {
     "name": "stdout",
     "output_type": "stream",
     "text": [
      "5\n",
      "1\n",
      "22\n",
      "333\n",
      "4444\n"
     ]
    }
   ],
   "source": [
    "for i in range(1,int(input())):\n",
    "    print(int(i * 10**i / 9))"
   ]
  },
  {
   "cell_type": "markdown",
   "id": "bd285662",
   "metadata": {},
   "source": [
    "## Thank You"
   ]
  }
 ],
 "metadata": {
  "kernelspec": {
   "display_name": "Python 3",
   "language": "python",
   "name": "python3"
  },
  "language_info": {
   "codemirror_mode": {
    "name": "ipython",
    "version": 3
   },
   "file_extension": ".py",
   "mimetype": "text/x-python",
   "name": "python",
   "nbconvert_exporter": "python",
   "pygments_lexer": "ipython3",
   "version": "3.8.8"
  }
 },
 "nbformat": 4,
 "nbformat_minor": 5
}

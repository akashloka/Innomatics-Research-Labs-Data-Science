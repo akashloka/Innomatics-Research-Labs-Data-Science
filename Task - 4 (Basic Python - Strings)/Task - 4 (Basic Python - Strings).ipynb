{
 "cells": [
  {
   "cell_type": "markdown",
   "id": "f1b246f9",
   "metadata": {},
   "source": [
    "## Author : Loka Akash Reddy\n",
    "### Innomatics Research Labs - Data Science October - 2021\n",
    "### Task 4 : Basic Python - Strings\n",
    "### Task Link : https://www.hackerrank.com/domains/python?filters%5Bsubdomains%5D%5B%5D=py-strings"
   ]
  },
  {
   "cell_type": "markdown",
   "id": "0e3d78d1",
   "metadata": {},
   "source": [
    "### Program 1 : sWAP cASE"
   ]
  },
  {
   "cell_type": "code",
   "execution_count": 1,
   "id": "c47ef238",
   "metadata": {},
   "outputs": [
    {
     "name": "stdout",
     "output_type": "stream",
     "text": [
      "HackerRank.com presents \"Pythonist 2\".\n",
      "hACKERrANK.COM PRESENTS \"pYTHONIST 2\".\n"
     ]
    }
   ],
   "source": [
    "def swap_case(sentence):\n",
    "    updated_s = \"\"\n",
    "    for c in sentence:\n",
    "        if c.isupper():\n",
    "            updated_s += c.lower()\n",
    "        elif c.islower():\n",
    "            updated_s += c.upper()\n",
    "        else:\n",
    "            updated_s += c\n",
    "    return updated_s\n",
    "\n",
    "\n",
    "if __name__ == '__main__':\n",
    "    s = input()\n",
    "    result = swap_case(s)\n",
    "    print(result)"
   ]
  },
  {
   "cell_type": "markdown",
   "id": "3e38cf2b",
   "metadata": {},
   "source": [
    "### Program 2 : What's Your Name?"
   ]
  },
  {
   "cell_type": "code",
   "execution_count": 2,
   "id": "a2180ed6",
   "metadata": {},
   "outputs": [
    {
     "name": "stdout",
     "output_type": "stream",
     "text": [
      "Ross\n",
      "Taylor\n",
      "Hello Ross Taylor! You just delved into python.\n"
     ]
    }
   ],
   "source": [
    "def print_full_name(a, b):\n",
    "    print(\"Hello {} {}! You just delved into python.\".format(a, b))\n",
    "\n",
    "\n",
    "if __name__ == '__main__':\n",
    "    first_name = input()\n",
    "    last_name = input()\n",
    "    print_full_name(first_name, last_name)"
   ]
  },
  {
   "cell_type": "markdown",
   "id": "37649577",
   "metadata": {},
   "source": [
    "### Program 3 : Mutations"
   ]
  },
  {
   "cell_type": "code",
   "execution_count": 3,
   "id": "eb1bbed5",
   "metadata": {},
   "outputs": [
    {
     "name": "stdout",
     "output_type": "stream",
     "text": [
      "abracadabra\n",
      "5 k\n",
      "abrackdabra\n"
     ]
    }
   ],
   "source": [
    "def mutate_string(string, position, character):\n",
    "    chars = list(string)\n",
    "    chars[position] = character\n",
    "    return \"\".join(chars)\n",
    "\n",
    "\n",
    "if __name__ == '__main__':\n",
    "    s = input()\n",
    "    i, c = input().split()\n",
    "    s_new = mutate_string(s, int(i), c)\n",
    "    print(s_new)"
   ]
  },
  {
   "cell_type": "markdown",
   "id": "7814baa6",
   "metadata": {},
   "source": [
    "### Program 4 : Find a string"
   ]
  },
  {
   "cell_type": "code",
   "execution_count": 4,
   "id": "ecafefae",
   "metadata": {},
   "outputs": [
    {
     "name": "stdout",
     "output_type": "stream",
     "text": [
      "ABCDCDC\n",
      "CDC\n",
      "2\n"
     ]
    }
   ],
   "source": [
    "def count_substring(string, sub_string):\n",
    "    count_sub_string = 0\n",
    "    for i in range(len(string) - len(sub_string) + 1):\n",
    "        if string[i:i + len(sub_string)] == sub_string:\n",
    "            count_sub_string += 1\n",
    "    return count_sub_string\n",
    "\n",
    "\n",
    "if __name__ == '__main__':\n",
    "    string = input().strip()\n",
    "    sub_string = input().strip()\n",
    "\n",
    "    count = count_substring(string, sub_string)\n",
    "    print(count)"
   ]
  },
  {
   "cell_type": "markdown",
   "id": "ff9b3d7b",
   "metadata": {},
   "source": [
    "### Program 5 : String Validators"
   ]
  },
  {
   "cell_type": "code",
   "execution_count": 5,
   "id": "2d8e307a",
   "metadata": {},
   "outputs": [
    {
     "name": "stdout",
     "output_type": "stream",
     "text": [
      "qA2\n",
      "True\n",
      "True\n",
      "True\n",
      "True\n",
      "True\n"
     ]
    }
   ],
   "source": [
    "if __name__ == '__main__':\n",
    "    s = input()\n",
    "    flag_alnum = False\n",
    "    flag_alpha = False\n",
    "    flag_digit = False\n",
    "    flag_lower = False\n",
    "    flag_upper = False\n",
    "    for i in s:\n",
    "        if i.isalnum():\n",
    "            flag_alnum = True\n",
    "        if i.isalpha():\n",
    "            flag_alpha = True\n",
    "        if i.isdigit():\n",
    "            flag_digit = True\n",
    "        if i.islower():\n",
    "            flag_lower = True\n",
    "        if i.isupper():\n",
    "            flag_upper = True\n",
    "\n",
    "    print(flag_alnum)\n",
    "    print(flag_alpha)\n",
    "    print(flag_digit)\n",
    "    print(flag_lower)\n",
    "    print(flag_upper)"
   ]
  },
  {
   "cell_type": "markdown",
   "id": "f8274edd",
   "metadata": {},
   "source": [
    "### Program 6 : Text Alignment"
   ]
  },
  {
   "cell_type": "code",
   "execution_count": 6,
   "id": "cdc3c0c8",
   "metadata": {},
   "outputs": [
    {
     "name": "stdout",
     "output_type": "stream",
     "text": [
      "5\n",
      "    H    \n",
      "   HHH   \n",
      "  HHHHH  \n",
      " HHHHHHH \n",
      "HHHHHHHHH\n",
      "  HHHHH               HHHHH             \n",
      "  HHHHH               HHHHH             \n",
      "  HHHHH               HHHHH             \n",
      "  HHHHH               HHHHH             \n",
      "  HHHHH               HHHHH             \n",
      "  HHHHH               HHHHH             \n",
      "  HHHHHHHHHHHHHHHHHHHHHHHHH   \n",
      "  HHHHHHHHHHHHHHHHHHHHHHHHH   \n",
      "  HHHHHHHHHHHHHHHHHHHHHHHHH   \n",
      "  HHHHH               HHHHH             \n",
      "  HHHHH               HHHHH             \n",
      "  HHHHH               HHHHH             \n",
      "  HHHHH               HHHHH             \n",
      "  HHHHH               HHHHH             \n",
      "  HHHHH               HHHHH             \n",
      "                    HHHHHHHHH \n",
      "                     HHHHHHH  \n",
      "                      HHHHH   \n",
      "                       HHH    \n",
      "                        H     \n"
     ]
    }
   ],
   "source": [
    "thickness = int(input())\n",
    "c = 'H'\n",
    "\n",
    "# Top Cone\n",
    "for i in range(thickness):\n",
    "    print((c * i).rjust(thickness - 1) + c + (c * i).ljust(thickness - 1))\n",
    "\n",
    "# Top Pillars\n",
    "for i in range(thickness + 1):\n",
    "    print((c * thickness).center(thickness * 2) + (c * thickness).center(thickness * 6))\n",
    "\n",
    "# Middle Belt\n",
    "for i in range((thickness + 1) // 2):\n",
    "    print((c * thickness * 5).center(thickness * 6))\n",
    "\n",
    "# Bottom Pillars\n",
    "for i in range(thickness + 1):\n",
    "    print((c * thickness).center(thickness * 2) + (c * thickness).center(thickness * 6))\n",
    "\n",
    "# Bottom Cone\n",
    "for i in range(thickness):\n",
    "    print(((c * (thickness - i - 1)).rjust(thickness) + c + (c * (thickness - i - 1)).ljust(thickness)).rjust(\n",
    "        thickness * 6))"
   ]
  },
  {
   "cell_type": "markdown",
   "id": "e702375a",
   "metadata": {},
   "source": [
    "### Program 7 : Text Wrap"
   ]
  },
  {
   "cell_type": "code",
   "execution_count": 7,
   "id": "344407b9",
   "metadata": {},
   "outputs": [
    {
     "name": "stdout",
     "output_type": "stream",
     "text": [
      "ABCDEFGHIJKLIMNOQRSTUVWXYZ\n",
      "4\n",
      "ABCD\n",
      "EFGH\n",
      "IJKL\n",
      "IMNO\n",
      "QRST\n",
      "UVWX\n",
      "YZ\n"
     ]
    }
   ],
   "source": [
    "import textwrap\n",
    "\n",
    "\n",
    "def wrap(string, max_width):\n",
    "    return textwrap.fill(string, max_width)\n",
    "\n",
    "\n",
    "if __name__ == '__main__':\n",
    "    string, max_width = input(), int(input())\n",
    "    result = wrap(string, max_width)\n",
    "    print(result)"
   ]
  },
  {
   "cell_type": "markdown",
   "id": "96eaa817",
   "metadata": {},
   "source": [
    "### Program 8 : Designer Door Mat"
   ]
  },
  {
   "cell_type": "code",
   "execution_count": 8,
   "id": "c1e439af",
   "metadata": {},
   "outputs": [
    {
     "name": "stdout",
     "output_type": "stream",
     "text": [
      "7 21\n",
      "---------.|.---------\n",
      "------.|..|..|.------\n",
      "---.|..|..|..|..|.---\n",
      "-------WELCOME-------\n",
      "---.|..|..|..|..|.---\n",
      "------.|..|..|.------\n",
      "---------.|.---------\n"
     ]
    }
   ],
   "source": [
    "N, M = map(int, input().split())\n",
    "for i in range(1, N, 2):\n",
    "    print(int((M - 3 * i) / 2) * '-' + (i * '.|.') + int((M - 3 * i) / 2) * '-')\n",
    "print(int((M - 7) / 2) * '-' + 'WELCOME' + int((M - 7) / 2) * '-')\n",
    "for i in range(N - 2, -1, -2):\n",
    "    print(int((M - 3 * i) / 2) * '-' + (i * '.|.') + int((M - 3 * i) / 2) * '-')"
   ]
  },
  {
   "cell_type": "markdown",
   "id": "fe6555a7",
   "metadata": {},
   "source": [
    "### Program 9 : String Formatting"
   ]
  },
  {
   "cell_type": "code",
   "execution_count": 9,
   "id": "424061bc",
   "metadata": {},
   "outputs": [
    {
     "name": "stdout",
     "output_type": "stream",
     "text": [
      "17\n",
      "    1     1     1     1\n",
      "    2     2     2    10\n",
      "    3     3     3    11\n",
      "    4     4     4   100\n",
      "    5     5     5   101\n",
      "    6     6     6   110\n",
      "    7     7     7   111\n",
      "    8    10     8  1000\n",
      "    9    11     9  1001\n",
      "   10    12     A  1010\n",
      "   11    13     B  1011\n",
      "   12    14     C  1100\n",
      "   13    15     D  1101\n",
      "   14    16     E  1110\n",
      "   15    17     F  1111\n",
      "   16    20    10 10000\n",
      "   17    21    11 10001\n"
     ]
    }
   ],
   "source": [
    "n = int(input().strip())\n",
    "w = len(str(bin(n))[2:])\n",
    "for i in range(1,n+1,1):\n",
    "    o = str(oct(i))[2:]\n",
    "    h = str(hex(i))[2:]\n",
    "    h = h.upper()\n",
    "    b = str(bin(i))[2:]\n",
    "    d = str(i)\n",
    "    print('{:>{width}} {:>{width}} {:>{width}} {:>{width}}'.format(d,o,h,b,width=w))"
   ]
  },
  {
   "cell_type": "markdown",
   "id": "47f4b2a9",
   "metadata": {},
   "source": [
    "### Program 10 : Alphabet Rangoli"
   ]
  },
  {
   "cell_type": "code",
   "execution_count": 10,
   "id": "96598787",
   "metadata": {},
   "outputs": [
    {
     "name": "stdout",
     "output_type": "stream",
     "text": [
      "5\n",
      "--------e--------\n",
      "------e-d-e------\n",
      "----e-d-c-d-e----\n",
      "--e-d-c-b-c-d-e--\n",
      "e-d-c-b-a-b-c-d-e\n",
      "--e-d-c-b-c-d-e--\n",
      "----e-d-c-d-e----\n",
      "------e-d-e------\n",
      "--------e--------\n"
     ]
    }
   ],
   "source": [
    "n = int(input().strip())\n",
    "w = (n-1) * 2 + ((n * 2) - 1)\n",
    "#upper half\n",
    "for i in range(1,n,1):\n",
    "    number_of_letter = (i*2) - 1\n",
    "    s = ''\n",
    "    letter_value = 97 + n - 1\n",
    "    for i in range(0,number_of_letter):\n",
    "        if(i != 0):\n",
    "            s += '-' \n",
    "        s += chr(letter_value) \n",
    "        if(i<(number_of_letter-1) / 2):\n",
    "            letter_value = letter_value - 1\n",
    "        else:\n",
    "            letter_value = letter_value + 1            \n",
    "    print(s.center(w,'-'))\n",
    "    \n",
    "    \n",
    "#bottom half\n",
    "for i in range(n,0,-1):\n",
    "    number_of_letter = (i*2) - 1\n",
    "    s = ''\n",
    "    letter_value = 97 + n - 1\n",
    "    for i in range(0,number_of_letter):\n",
    "        if(i != 0):\n",
    "            s += '-' \n",
    "        s += chr(letter_value) \n",
    "        if(i<(number_of_letter-1) / 2):\n",
    "            letter_value = letter_value - 1\n",
    "        else:\n",
    "            letter_value = letter_value + 1            \n",
    "    print(s.center(w,'-'))"
   ]
  },
  {
   "cell_type": "markdown",
   "id": "35d22361",
   "metadata": {},
   "source": [
    "### Program 11 : Capitalize!"
   ]
  },
  {
   "cell_type": "code",
   "execution_count": 11,
   "id": "64bfd3ed",
   "metadata": {},
   "outputs": [
    {
     "name": "stdout",
     "output_type": "stream",
     "text": [
      "chris alan\n",
      "Chris Alan\n"
     ]
    }
   ],
   "source": [
    "s = input()\n",
    "s_ar = s.split(' ')\n",
    "final_ar = []\n",
    "space = ' '\n",
    "for w in s_ar:\n",
    "    final_ar.append(w.capitalize())\n",
    "print(space.join(final_ar))"
   ]
  },
  {
   "cell_type": "markdown",
   "id": "a644031a",
   "metadata": {},
   "source": [
    "### Program 12 : The Minion Game"
   ]
  },
  {
   "cell_type": "code",
   "execution_count": 12,
   "id": "78dcbfd5",
   "metadata": {},
   "outputs": [
    {
     "name": "stdout",
     "output_type": "stream",
     "text": [
      "BANANA\n",
      "Stuart 12\n"
     ]
    }
   ],
   "source": [
    "s = input().strip()\n",
    "s_length = len(s)\n",
    "vowel_list = ['A','E','I','O','U']\n",
    "stuart_point = 0\n",
    "kevin_point = 0\n",
    "for i in range(s_length):\n",
    "    if s[i] in vowel_list:\n",
    "        kevin_point += s_length - i\n",
    "    else:\n",
    "        stuart_point += s_length - i\n",
    "if stuart_point == kevin_point:\n",
    "    print('Draw')\n",
    "elif kevin_point > stuart_point:\n",
    "    print('Kevin',kevin_point)\n",
    "else:\n",
    "    print('Stuart',stuart_point)"
   ]
  },
  {
   "cell_type": "markdown",
   "id": "0c103f21",
   "metadata": {},
   "source": [
    "### Program 13 : Merge the Tools!"
   ]
  },
  {
   "cell_type": "code",
   "execution_count": 13,
   "id": "5985aad2",
   "metadata": {},
   "outputs": [
    {
     "name": "stdout",
     "output_type": "stream",
     "text": [
      "AABCAAADA\n",
      "3\n",
      "AB\n",
      "CA\n",
      "AD\n"
     ]
    }
   ],
   "source": [
    "from collections import OrderedDict\n",
    "\n",
    "def merge_the_tools(string, k):\n",
    "    for i in range(0, len(string)-k+1, k):\n",
    "        print(''.join(OrderedDict.fromkeys(string[i:i + k])))\n",
    "\n",
    "if __name__ == '__main__':\n",
    "    string, k = input(), int(input())\n",
    "    merge_the_tools(string, k)"
   ]
  },
  {
   "cell_type": "markdown",
   "id": "547a3ba7",
   "metadata": {},
   "source": [
    "## Thank you"
   ]
  }
 ],
 "metadata": {
  "kernelspec": {
   "display_name": "Python 3",
   "language": "python",
   "name": "python3"
  },
  "language_info": {
   "codemirror_mode": {
    "name": "ipython",
    "version": 3
   },
   "file_extension": ".py",
   "mimetype": "text/x-python",
   "name": "python",
   "nbconvert_exporter": "python",
   "pygments_lexer": "ipython3",
   "version": "3.8.8"
  }
 },
 "nbformat": 4,
 "nbformat_minor": 5
}

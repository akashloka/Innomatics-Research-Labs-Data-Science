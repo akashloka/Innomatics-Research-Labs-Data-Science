{
 "cells": [
  {
   "cell_type": "markdown",
   "id": "4e99d729",
   "metadata": {},
   "source": [
    "## Author : Loka Akash Reddy\n",
    "### Innomatics Research Labs - Data Science October - 2021\n",
    "### Task 5 : RegEx\n",
    "### Task Link : https://www.hackerrank.com/domains/python?filters%5Bsubdomains%5D%5B%5D=py-regex"
   ]
  },
  {
   "cell_type": "markdown",
   "id": "30929a3c",
   "metadata": {},
   "source": [
    "### Program 1 : Re.split()"
   ]
  },
  {
   "cell_type": "code",
   "execution_count": 1,
   "id": "40fe9e93",
   "metadata": {},
   "outputs": [
    {
     "name": "stdout",
     "output_type": "stream",
     "text": [
      "100,000,000.000\n",
      "100\n",
      "000\n",
      "000\n",
      "000\n"
     ]
    }
   ],
   "source": [
    "import re\n",
    "regex_pattern = r'[.,]+'\n",
    "\n",
    "print(\"\\n\".join(re.split(regex_pattern, input())))"
   ]
  },
  {
   "cell_type": "markdown",
   "id": "a0229dba",
   "metadata": {},
   "source": [
    "### Program 2 : Group(), Groups() & Groupdict()"
   ]
  },
  {
   "cell_type": "code",
   "execution_count": 2,
   "id": "d556b81d",
   "metadata": {},
   "outputs": [
    {
     "name": "stdout",
     "output_type": "stream",
     "text": [
      "12345678910111213141516171820212223\n",
      "1\n"
     ]
    }
   ],
   "source": [
    "import re\n",
    "s = input()\n",
    "res = re.search(r'([A-Za-z0-9])\\1',s)\n",
    "if res == None:\n",
    "    print(-1)\n",
    "else:\n",
    "    print(res.group(1))"
   ]
  },
  {
   "cell_type": "markdown",
   "id": "f9b080e0",
   "metadata": {},
   "source": [
    "### Program 3 : Re.findall() & Re.finditer()"
   ]
  },
  {
   "cell_type": "code",
   "execution_count": 3,
   "id": "5aceb1cb",
   "metadata": {},
   "outputs": [
    {
     "name": "stdout",
     "output_type": "stream",
     "text": [
      "rabcdeefgyYhFjkIoomnpOeorteeeeet\n",
      "ee\n",
      "Ioo\n",
      "Oeo\n",
      "eeeee\n"
     ]
    }
   ],
   "source": [
    "import re\n",
    "s = input()\n",
    "result = re.findall(r'(?<=[QWRTYPSDFGHJKLZXCVBNMqwrtypsdfghjklzxcvbnm])([AEIOUaeiou]{2,})(?=[QWRTYPSDFGHJKLZXCVBNMqwrtypsdfghjklzxcvbnm])',s)\n",
    "if result:\n",
    "    for i in result:\n",
    "        print(i)\n",
    "else:\n",
    "    print(-1)"
   ]
  },
  {
   "cell_type": "markdown",
   "id": "b7851947",
   "metadata": {},
   "source": [
    "### Program 4 : Re.start() & Re.end()"
   ]
  },
  {
   "cell_type": "code",
   "execution_count": 4,
   "id": "eb4229f7",
   "metadata": {},
   "outputs": [
    {
     "name": "stdout",
     "output_type": "stream",
     "text": [
      "aaadaa\n",
      "aa\n",
      "(0, 1)\n",
      "(1, 2)\n",
      "(4, 5)\n"
     ]
    }
   ],
   "source": [
    "import re\n",
    "s = input().strip()\n",
    "k = input().strip()\n",
    "s_len = len(s)\n",
    "found_flag = False\n",
    "for i in range(s_len):\n",
    "    match_result = re.match(k,s[i:])\n",
    "    if match_result:\n",
    "        start_index = i+match_result.start()\n",
    "        end_index = i+match_result.end()-1\n",
    "        print((start_index,end_index))\n",
    "        found_flag = True\n",
    "if found_flag == False:\n",
    "    print('(-1, -1)')"
   ]
  },
  {
   "cell_type": "markdown",
   "id": "c6d39edf",
   "metadata": {},
   "source": [
    "### Program 5 : Regex Substitution"
   ]
  },
  {
   "cell_type": "code",
   "execution_count": 5,
   "id": "80f20bc0",
   "metadata": {},
   "outputs": [
    {
     "name": "stdout",
     "output_type": "stream",
     "text": [
      "11\n",
      "a = 1;\n",
      "a = 1;\n",
      "b = input();\n",
      "b = input();\n",
      "\n",
      "\n",
      "if a + b > 0 && a - b < 0:\n",
      "if a + b > 0 and a - b < 0:\n",
      "    start()\n",
      "    start()\n",
      "elif a*b > 10 || a/b < 1:\n",
      "elif a*b > 10 or a/b < 1:\n",
      "    stop()\n",
      "    stop()\n",
      "print set(list(a)) | set(list(b))\n",
      "print set(list(a)) | set(list(b))\n",
      "#Note do not change &&& or ||| or & or |\n",
      "#Note do not change &&& or ||| or & or |\n",
      "#Only change those '&&' which have space on both sides.\n",
      "#Only change those '&&' which have space on both sides.\n",
      "#Only change those '|| which have space on both sides.\n",
      "#Only change those '|| which have space on both sides.\n"
     ]
    }
   ],
   "source": [
    "import re\n",
    "\n",
    "def change(match):\n",
    "    if match.group(1) == '&&':\n",
    "        return 'and'\n",
    "    else:\n",
    "        return 'or'\n",
    "\n",
    "for _ in range(int(input())):\n",
    "    print(re.sub(r\"(?<= )(\\|\\||&&)(?= )\", change,input()))"
   ]
  },
  {
   "cell_type": "markdown",
   "id": "230838e9",
   "metadata": {},
   "source": [
    "### Program 6 : Validating Roman Numerals"
   ]
  },
  {
   "cell_type": "code",
   "execution_count": 6,
   "id": "160bb02e",
   "metadata": {},
   "outputs": [
    {
     "name": "stdout",
     "output_type": "stream",
     "text": [
      "CDXXI\n",
      "True\n"
     ]
    }
   ],
   "source": [
    "regex_pattern = r\"^M{0,3}(CM|CD|D?C{0,3})(XC|XL|L?X{0,3})(IX|IV|V?I{0,3})$\"\n",
    "\n",
    "import re\n",
    "print(str(bool(re.match(regex_pattern, input()))))"
   ]
  },
  {
   "cell_type": "markdown",
   "id": "c6b78605",
   "metadata": {},
   "source": [
    "### Program 7 : Validating phone numbers"
   ]
  },
  {
   "cell_type": "code",
   "execution_count": 7,
   "id": "35ac3bb7",
   "metadata": {},
   "outputs": [
    {
     "name": "stdout",
     "output_type": "stream",
     "text": [
      "2\n",
      "9587456281\n",
      "YES\n",
      "1252478965\n",
      "NO\n"
     ]
    }
   ],
   "source": [
    "from re import compile, match\n",
    "\n",
    "n = int(input())\n",
    "for _ in range(n):\n",
    "    phone_number = input()\n",
    "    condition = compile(r'^[7-9]\\d{9}$')\n",
    "    if bool(match(condition, phone_number)):\n",
    "        print(\"YES\")\n",
    "    else:\n",
    "        print(\"NO\")"
   ]
  },
  {
   "cell_type": "markdown",
   "id": "6d1f3a1c",
   "metadata": {},
   "source": [
    "### Program 8 : Validating and Parsing Email Addresses"
   ]
  },
  {
   "cell_type": "code",
   "execution_count": 8,
   "id": "b4ed55c2",
   "metadata": {},
   "outputs": [
    {
     "name": "stdout",
     "output_type": "stream",
     "text": [
      "2\n",
      "DEXTER <dexter@hotmail.com>\n",
      "DEXTER <dexter@hotmail.com>\n",
      "VIRUS <virus!@variable.:p>\n"
     ]
    }
   ],
   "source": [
    "import re, email.utils\n",
    "n = int(input())\n",
    "for t in range(n):\n",
    "    s = input()\n",
    "    parsed_email = email.utils.parseaddr(s)[1].strip()\n",
    "    match_result = bool(re.match(r'(^[A-Za-z][A-Za-z0-9\\._-]+)@([A-Za-z]+)\\.([A-Za-z]{1,3})$',parsed_email))\n",
    "    if match_result == True:\n",
    "        print(s)"
   ]
  },
  {
   "cell_type": "markdown",
   "id": "de79bdeb",
   "metadata": {},
   "source": [
    "### Program 9 : Hex Color Code"
   ]
  },
  {
   "cell_type": "code",
   "execution_count": 9,
   "id": "b799ff01",
   "metadata": {},
   "outputs": [
    {
     "name": "stdout",
     "output_type": "stream",
     "text": [
      "11\n",
      "#BED\n",
      "{\n",
      "      color: #FfFdF8; background-color:#aef;\n",
      "#FfFdF8\n",
      "#aef\n",
      "     font-size: 123px;\n",
      "}\n",
      "#Cab\n",
      "{\n",
      "    background-color: #ABC;\n",
      "#ABC\n",
      "    border: 2px dashed #fff;\n",
      "#fff\n",
      "}\n",
      "\n"
     ]
    }
   ],
   "source": [
    "import re\n",
    "n = int(input())\n",
    "for t in range(n):\n",
    "    s = input()\n",
    "    match_result = re.findall(r'(#[0-9A-Fa-f]{3}|#[0-9A-Fa-f]{6})(?:[;,.)]{1})',s)\n",
    "    for i in match_result:\n",
    "        if i != '':\n",
    "            print(i)"
   ]
  },
  {
   "cell_type": "markdown",
   "id": "da6733b3",
   "metadata": {},
   "source": [
    "### Program 10 : HTML Parser - Part 1"
   ]
  },
  {
   "cell_type": "code",
   "execution_count": 10,
   "id": "4ec1ff9c",
   "metadata": {},
   "outputs": [
    {
     "name": "stdout",
     "output_type": "stream",
     "text": [
      "2\n",
      "<html><head><title>HTML Parser - I</title></head>\n",
      "<body data-modal-target class='1'><h1>HackerRank</h1><br /></body></html>\n",
      "Start : html\n",
      "Start : head\n",
      "Start : title\n",
      "End   : title\n",
      "End   : head\n",
      "Start : body\n",
      "-> data-modal-target > None\n",
      "-> class > 1\n",
      "Start : h1\n",
      "End   : h1\n",
      "Empty : br\n",
      "End   : body\n",
      "End   : html\n"
     ]
    }
   ],
   "source": [
    "from html.parser import HTMLParser\n",
    "\n",
    "class CustomHTMLParser(HTMLParser):\n",
    "    \n",
    "    def handle_attr(self,attrs):\n",
    "        for attr_val_tuple in attrs:\n",
    "            print('->',attr_val_tuple[0],'>',attr_val_tuple[1])\n",
    "\n",
    "    def handle_starttag(self,tag,attrs):\n",
    "        print(\"Start :\",tag)\n",
    "        self.handle_attr(attrs)\n",
    "\n",
    "    def handle_endtag(self,tag):\n",
    "        print(\"End   :\",tag)\n",
    "\n",
    "    def handle_startendtag(self,tag, attrs):\n",
    "        print(\"Empty :\",tag)\n",
    "        self.handle_attr(attrs)\n",
    "\n",
    "parser = CustomHTMLParser()\n",
    "\n",
    "n = int(input())\n",
    "\n",
    "s = ''\n",
    "for i in range(n):\n",
    "    s += input()\n",
    "    \n",
    "parser.feed(s)"
   ]
  },
  {
   "cell_type": "markdown",
   "id": "d92a0b3c",
   "metadata": {},
   "source": [
    "### Program 11 : HTML Parser - Part 2"
   ]
  },
  {
   "cell_type": "code",
   "execution_count": 11,
   "id": "8676c2af",
   "metadata": {},
   "outputs": [
    {
     "name": "stdout",
     "output_type": "stream",
     "text": [
      "4\n",
      "<!--[if IE 9]>IE9-specific content\n",
      "<![endif]-->\n",
      "<div> Welcome to HackerRank</div>\n",
      "<!--[if IE 9]>IE9-specific content<![endif]-->\n",
      ">>> Multi-line Comment\n",
      "[if IE 9]>IE9-specific content\n",
      "<![endif]\n",
      ">>> Data\n",
      " Welcome to HackerRank\n",
      ">>> Single-line Comment\n",
      "[if IE 9]>IE9-specific content<![endif]\n"
     ]
    }
   ],
   "source": [
    "from html.parser import HTMLParser\n",
    "class CustomHTMLParser(HTMLParser):\n",
    "    def handle_comment(self, data):\n",
    "        number_of_line = len(data.split('\\n'))\n",
    "        if number_of_line>1:\n",
    "            print('>>> Multi-line Comment')\n",
    "        else:\n",
    "            print('>>> Single-line Comment')\n",
    "        if data.strip():\n",
    "            print(data)\n",
    "\n",
    "    def handle_data(self, data):\n",
    "        if data.strip():\n",
    "            print(\">>> Data\")\n",
    "            print(data)\n",
    "\n",
    "parser = CustomHTMLParser()\n",
    "\n",
    "n = int(input())\n",
    "\n",
    "html_string = ''\n",
    "for i in range(n):\n",
    "    html_string += input().rstrip()+'\\n'\n",
    "    \n",
    "parser.feed(html_string)\n",
    "parser.close()"
   ]
  },
  {
   "cell_type": "markdown",
   "id": "5db335d4",
   "metadata": {},
   "source": [
    "### Program 12 : Detect HTML Tags, Attributes and Attribute Values"
   ]
  },
  {
   "cell_type": "code",
   "execution_count": 12,
   "id": "a1d2a12e",
   "metadata": {},
   "outputs": [
    {
     "name": "stdout",
     "output_type": "stream",
     "text": [
      "9\n",
      "<head>\n",
      "<title>HTML</title>\n",
      "</head>\n",
      "<object type=\"application/x-flash\"\n",
      "  data=\"your-file.swf\"\n",
      "  width=\"0\" height=\"0\">\n",
      "  <!-- <param name=\"movie\" value=\"your-file.swf\" /> -->\n",
      "  <param name=\"quality\" value=\"high\"/>\n",
      "</object>\n",
      "head\n",
      "title\n",
      "object\n",
      "-> type > application/x-flash\n",
      "-> data > your-file.swf\n",
      "-> width > 0\n",
      "-> height > 0\n",
      "param\n",
      "-> name > quality\n",
      "-> value > high\n"
     ]
    }
   ],
   "source": [
    "from html.parser import HTMLParser\n",
    "\n",
    "class CustomHTMLParser(HTMLParser):\n",
    "    def handle_starttag(self,tag,attrs):\n",
    "        print(tag)\n",
    "        self.handle_attrs(attrs)\n",
    "    def handle_startendtag(self,tag,attrs):\n",
    "        print(tag)\n",
    "        self.handle_attrs(attrs)\n",
    "    def handle_attrs(self,attrs):\n",
    "        for attrs_pair in attrs:\n",
    "            print('->',attrs_pair[0].strip(),'>',attrs_pair[1].strip())        \n",
    "\n",
    "n = int(input())\n",
    "html_string = ''\n",
    "for i in range(n):\n",
    "    html_string += input()\n",
    "    \n",
    "customHTMLParser = CustomHTMLParser()\n",
    "customHTMLParser.feed(html_string)\n",
    "customHTMLParser.close()"
   ]
  },
  {
   "cell_type": "markdown",
   "id": "d5267181",
   "metadata": {},
   "source": [
    "### Program 13 : Validating UID"
   ]
  },
  {
   "cell_type": "code",
   "execution_count": 13,
   "id": "44d671a0",
   "metadata": {},
   "outputs": [
    {
     "name": "stdout",
     "output_type": "stream",
     "text": [
      "2\n",
      "B1CD102354\n",
      "Invalid\n",
      "B1CDEF2354\n",
      "Valid\n"
     ]
    }
   ],
   "source": [
    "import re\n",
    "n = int(input())\n",
    "upper_check = r'.*([A-Z].*){2,}'\n",
    "digit_check = r'.*([0-9].*){3,}'\n",
    "alphanumeric_and_length_check = r'([A-Za-z0-9]){10}$'\n",
    "repeat_check = r'.*(.).*\\1'\n",
    "for i in range(n):\n",
    "    uid_string = input().strip()\n",
    "    upper_check_result = bool(re.match(upper_check,uid_string))\n",
    "    digit_check_result = bool(re.match(digit_check,uid_string))\n",
    "    alphanumeric_and_length_check_result = bool(re.match(alphanumeric_and_length_check,uid_string))\n",
    "    repeat_check_result = bool(re.match(repeat_check,uid_string))    \n",
    "    if upper_check_result and digit_check_result and alphanumeric_and_length_check_result and not repeat_check_result:\n",
    "        print('Valid')\n",
    "    else:\n",
    "        print('Invalid')"
   ]
  },
  {
   "cell_type": "markdown",
   "id": "46d0b6b3",
   "metadata": {},
   "source": [
    "### Program 14 : Validating Credit Card Numbers"
   ]
  },
  {
   "cell_type": "code",
   "execution_count": 14,
   "id": "b881549e",
   "metadata": {},
   "outputs": [
    {
     "name": "stdout",
     "output_type": "stream",
     "text": [
      "6\n",
      "4123456789123456\n",
      "Valid\n",
      "5123-4567-8912-3456\n",
      "Valid\n",
      "61234-567-8912-3456\n",
      "Invalid\n",
      "4123356789123456\n",
      "Valid\n",
      "5133-3367-8912-3456\n",
      "Invalid\n",
      "5123 - 3567 - 8912 - 3456\n",
      "Invalid\n"
     ]
    }
   ],
   "source": [
    "import re\n",
    "n = int(input())\n",
    "for t in range(n):\n",
    "    credit = input().strip()\n",
    "    credit_removed_hiphen = credit.replace('-','')\n",
    "    valid = True\n",
    "    length_16 = bool(re.match(r'^[4-6]\\d{15}$',credit))\n",
    "    length_19 = bool(re.match(r'^[4-6]\\d{3}-\\d{4}-\\d{4}-\\d{4}$',credit))    \n",
    "    consecutive = bool(re.findall(r'(?=(\\d)\\1\\1\\1)',credit_removed_hiphen))\n",
    "    if length_16 == True or length_19 == True:\n",
    "        if consecutive == True:\n",
    "            valid=False\n",
    "    else:\n",
    "        valid = False       \n",
    "    if valid == True:\n",
    "        print('Valid')\n",
    "    else:\n",
    "        print('Invalid')"
   ]
  },
  {
   "cell_type": "markdown",
   "id": "af65f3db",
   "metadata": {},
   "source": [
    "### Program 15 : Validating Postal Codes"
   ]
  },
  {
   "cell_type": "code",
   "execution_count": 15,
   "id": "5ee1ed1b",
   "metadata": {},
   "outputs": [
    {
     "name": "stdout",
     "output_type": "stream",
     "text": [
      "110000\n",
      "False\n"
     ]
    }
   ],
   "source": [
    "import re\n",
    "p = input().strip()\n",
    "range_check = bool(re.match(r'^[1-9][0-9]{5}$',p))\n",
    "repeat_check = len(re.findall(r'(?=([0-9])[0-9]\\1)',p))\n",
    "print(range_check == True and repeat_check<2)"
   ]
  },
  {
   "cell_type": "markdown",
   "id": "f6400f67",
   "metadata": {},
   "source": [
    "### Program 16 : Matrix Script"
   ]
  },
  {
   "cell_type": "code",
   "execution_count": 16,
   "id": "8ce5f248",
   "metadata": {},
   "outputs": [
    {
     "name": "stdout",
     "output_type": "stream",
     "text": [
      "7 3\n",
      "Tsi\n",
      "h%x\n",
      "i #\n",
      "sM \n",
      "$a \n",
      "#t%\n",
      "ir!\n",
      "This is Matrix#  %!\n"
     ]
    }
   ],
   "source": [
    "import math\n",
    "import os\n",
    "import random\n",
    "import re\n",
    "import sys\n",
    "\n",
    "first_multiple_input = input().rstrip().split()\n",
    "\n",
    "n = int(first_multiple_input[0])\n",
    "m = int(first_multiple_input[1])\n",
    "\n",
    "matrix = []\n",
    "\n",
    "for _ in range(n):\n",
    "    matrix_item = input()\n",
    "    matrix.append(matrix_item)\n",
    "\n",
    "# start   \n",
    "matrix = list(zip(*matrix))\n",
    "\n",
    "sample = str()\n",
    "\n",
    "for words in matrix:\n",
    "    for char in words:\n",
    "        sample += char\n",
    "       \n",
    "print(re.sub(r'(?<=\\w)([^\\w\\d]+)(?=\\w)', ' ', sample))"
   ]
  },
  {
   "cell_type": "markdown",
   "id": "d5188541",
   "metadata": {},
   "source": [
    "## Thank You"
   ]
  }
 ],
 "metadata": {
  "kernelspec": {
   "display_name": "Python 3",
   "language": "python",
   "name": "python3"
  },
  "language_info": {
   "codemirror_mode": {
    "name": "ipython",
    "version": 3
   },
   "file_extension": ".py",
   "mimetype": "text/x-python",
   "name": "python",
   "nbconvert_exporter": "python",
   "pygments_lexer": "ipython3",
   "version": "3.8.8"
  }
 },
 "nbformat": 4,
 "nbformat_minor": 5
}

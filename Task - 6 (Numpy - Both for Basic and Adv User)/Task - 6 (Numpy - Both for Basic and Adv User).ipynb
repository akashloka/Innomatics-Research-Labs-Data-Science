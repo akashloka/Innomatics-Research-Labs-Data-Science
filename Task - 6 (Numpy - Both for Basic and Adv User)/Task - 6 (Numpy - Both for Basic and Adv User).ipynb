{
 "cells": [
  {
   "cell_type": "markdown",
   "id": "88759e91",
   "metadata": {},
   "source": [
    "## Author : Loka Akash Reddy\n",
    "### Innomatics Research Labs - Data Science October - 2021\n",
    "### Task 6 : Numpy - Both for Basic and Adv User\n",
    "###  Read about Numpy Library functionality from this link: https://github.com/bansalkanav/Machine_Learning_and_Deep_Learning/tree/master/Module%202%20-%20Python%20for%20Data%20Science/1.%20Numpy\n",
    "### Task Link : https://www.hackerrank.com/domains/python?filters%5Bsubdomains%5D%5B%5D=numpy"
   ]
  },
  {
   "cell_type": "markdown",
   "id": "bc61517e",
   "metadata": {},
   "source": [
    "### Program 1 : Shape and Reshape"
   ]
  },
  {
   "cell_type": "code",
   "execution_count": 1,
   "id": "f3bd0866",
   "metadata": {},
   "outputs": [
    {
     "name": "stdout",
     "output_type": "stream",
     "text": [
      "1 2 3 4 5 6 7 8 9\n",
      "[[1 2 3]\n",
      " [4 5 6]\n",
      " [7 8 9]]\n"
     ]
    }
   ],
   "source": [
    "import numpy\n",
    "ar = list(map(int,input().split()))\n",
    "np_ar = numpy.array(ar)\n",
    "print(numpy.reshape(np_ar,(3,3)))"
   ]
  },
  {
   "cell_type": "markdown",
   "id": "9e281587",
   "metadata": {},
   "source": [
    "### Program 2 : Transpose and Flatten"
   ]
  },
  {
   "cell_type": "code",
   "execution_count": 2,
   "id": "b17cafac",
   "metadata": {},
   "outputs": [
    {
     "name": "stdout",
     "output_type": "stream",
     "text": [
      "2 2\n",
      "1 2\n",
      "3 4\n",
      "[[1 3]\n",
      " [2 4]]\n",
      "[1 2 3 4]\n"
     ]
    }
   ],
   "source": [
    "import numpy\n",
    "n,m = map(int,input().split())\n",
    "ar = []\n",
    "for i in range(n):\n",
    "    row = list(map(int,input().split()))\n",
    "    ar.append(row)\n",
    "\n",
    "np_ar = numpy.array(ar)\n",
    "print(numpy.transpose(np_ar))\n",
    "print(np_ar.flatten())"
   ]
  },
  {
   "cell_type": "markdown",
   "id": "64e79c75",
   "metadata": {},
   "source": [
    "### Program 3 : Concatenate"
   ]
  },
  {
   "cell_type": "code",
   "execution_count": 3,
   "id": "c39544d0",
   "metadata": {},
   "outputs": [
    {
     "name": "stdout",
     "output_type": "stream",
     "text": [
      "4 3 2\n",
      "1 2\n",
      "1 2\n",
      "1 2\n",
      "1 2\n",
      "3 4\n",
      "3 4\n",
      "3 4\n",
      "[[1 2]\n",
      " [1 2]\n",
      " [1 2]\n",
      " [1 2]\n",
      " [3 4]\n",
      " [3 4]\n",
      " [3 4]]\n"
     ]
    }
   ],
   "source": [
    "import numpy\n",
    "n,m,p=map(int,input().split())\n",
    "\n",
    "ar1 = []\n",
    "ar2 = []\n",
    "for i in range(n):\n",
    "    tmp = list(map(int,input().split()))\n",
    "    ar1.append(tmp)\n",
    "for i in range(m):\n",
    "    tmp = list(map(int,input().split()))\n",
    "    ar2.append(tmp)    \n",
    "np_ar1 = numpy.array(ar1)\n",
    "np_ar2 = numpy.array(ar2)\n",
    "print(numpy.concatenate((np_ar1,np_ar2),axis = 0))"
   ]
  },
  {
   "cell_type": "markdown",
   "id": "41978061",
   "metadata": {},
   "source": [
    "### Program 4 : Zeros and Ones"
   ]
  },
  {
   "cell_type": "code",
   "execution_count": 4,
   "id": "bdd75bc8",
   "metadata": {},
   "outputs": [
    {
     "name": "stdout",
     "output_type": "stream",
     "text": [
      "3 3 3\n",
      "[[[0 0 0]\n",
      "  [0 0 0]\n",
      "  [0 0 0]]\n",
      "\n",
      " [[0 0 0]\n",
      "  [0 0 0]\n",
      "  [0 0 0]]\n",
      "\n",
      " [[0 0 0]\n",
      "  [0 0 0]\n",
      "  [0 0 0]]]\n",
      "[[[1 1 1]\n",
      "  [1 1 1]\n",
      "  [1 1 1]]\n",
      "\n",
      " [[1 1 1]\n",
      "  [1 1 1]\n",
      "  [1 1 1]]\n",
      "\n",
      " [[1 1 1]\n",
      "  [1 1 1]\n",
      "  [1 1 1]]]\n"
     ]
    }
   ],
   "source": [
    "import numpy\n",
    "n_ar = list(map(int,input().split()))\n",
    "n = tuple(n_ar)\n",
    "print(numpy.zeros(n,dtype=numpy.int))\n",
    "print(numpy.ones(n,dtype=numpy.int))"
   ]
  },
  {
   "cell_type": "markdown",
   "id": "011ca700",
   "metadata": {},
   "source": [
    "### Program 5 : Eye and Identity"
   ]
  },
  {
   "cell_type": "code",
   "execution_count": 5,
   "id": "71664620",
   "metadata": {},
   "outputs": [
    {
     "name": "stdout",
     "output_type": "stream",
     "text": [
      "3 3\n",
      "[[ 1.  0.  0.]\n",
      " [ 0.  1.  0.]\n",
      " [ 0.  0.  1.]]\n"
     ]
    }
   ],
   "source": [
    "import numpy as np\n",
    "np.set_printoptions(legacy='1.13')\n",
    "n, m = map(int, input().split())\n",
    "print(np.eye(n, m, k=0))"
   ]
  },
  {
   "cell_type": "markdown",
   "id": "713716c0",
   "metadata": {},
   "source": [
    "### Program 6 : Array Mathematics"
   ]
  },
  {
   "cell_type": "code",
   "execution_count": 6,
   "id": "7ccd94c3",
   "metadata": {},
   "outputs": [
    {
     "name": "stdout",
     "output_type": "stream",
     "text": [
      "1 4\n",
      "1 2 3 4\n",
      "5 6 7 8\n",
      "[[ 6  8 10 12]]\n",
      "[[-4 -4 -4 -4]]\n",
      "[[ 5 12 21 32]]\n",
      "[[0 0 0 0]]\n",
      "[[1 2 3 4]]\n",
      "[[    1    64  2187 65536]]\n"
     ]
    }
   ],
   "source": [
    "import numpy\n",
    "n,m = map(int,input().split())\n",
    "ar1 = []\n",
    "ar2 = []\n",
    "for i in range(n):\n",
    "    tmp = list(map(int,input().split()))\n",
    "    ar1.append(tmp)\n",
    "for i in range(n):\n",
    "    tmp = list(map(int,input().split()))\n",
    "    ar2.append(tmp)\n",
    "np_ar1 = numpy.array(ar1)\n",
    "np_ar2 = numpy.array(ar2)\n",
    "print(np_ar1 + np_ar2)\n",
    "print(np_ar1 - np_ar2)\n",
    "print(np_ar1 * np_ar2)\n",
    "print(np_ar1 // np_ar2)\n",
    "print(np_ar1 % np_ar2)\n",
    "print(np_ar1 ** np_ar2)"
   ]
  },
  {
   "cell_type": "markdown",
   "id": "43abcfd6",
   "metadata": {},
   "source": [
    "### Program 7 : Floor, Ceil and Rint"
   ]
  },
  {
   "cell_type": "code",
   "execution_count": 7,
   "id": "322d412b",
   "metadata": {},
   "outputs": [
    {
     "name": "stdout",
     "output_type": "stream",
     "text": [
      "1.1 2.2 3.3 4.4 5.5 6.6 7.7 8.8 9.9\n",
      "[ 1.  2.  3.  4.  5.  6.  7.  8.  9.]\n",
      "[  2.   3.   4.   5.   6.   7.   8.   9.  10.]\n",
      "[  1.   2.   3.   4.   6.   7.   8.   9.  10.]\n"
     ]
    }
   ],
   "source": [
    "import numpy as np\n",
    "\n",
    "np.set_printoptions(legacy='1.13')\n",
    "A = np.array(input().split(), float)\n",
    "print(np.floor(A))\n",
    "print(np.ceil(A))\n",
    "print(np.rint(A))"
   ]
  },
  {
   "cell_type": "markdown",
   "id": "1619c8ee",
   "metadata": {},
   "source": [
    "### Program 8 : Sum and Prod"
   ]
  },
  {
   "cell_type": "code",
   "execution_count": 8,
   "id": "7181c9aa",
   "metadata": {},
   "outputs": [
    {
     "name": "stdout",
     "output_type": "stream",
     "text": [
      "2 2\n",
      "1 2\n",
      "3 4\n",
      "24\n"
     ]
    }
   ],
   "source": [
    "import numpy\n",
    "n,m=map(int,input().split())\n",
    "ar = []\n",
    "for i in range(n):\n",
    "    tmp = list(map(int,input().split()))\n",
    "    ar.append(tmp)\n",
    "np_ar = numpy.array(ar)\n",
    "s = numpy.sum(np_ar,axis=0)\n",
    "print(numpy.prod(s))"
   ]
  },
  {
   "cell_type": "markdown",
   "id": "e97c2917",
   "metadata": {},
   "source": [
    "### Program 9 : Min and Max"
   ]
  },
  {
   "cell_type": "code",
   "execution_count": 9,
   "id": "768eb59c",
   "metadata": {},
   "outputs": [
    {
     "name": "stdout",
     "output_type": "stream",
     "text": [
      "4 2\n",
      "2 5\n",
      "3 7\n",
      "1 3\n",
      "4 0\n",
      "3\n"
     ]
    }
   ],
   "source": [
    "import numpy\n",
    "n,m = map(int,input().split())\n",
    "ar = []\n",
    "for i in range(n):\n",
    "    tmp = list(map(int,input().split()))\n",
    "    ar.append(tmp)\n",
    "np_ar = numpy.array(ar)\n",
    "print(numpy.max(numpy.min(np_ar,axis=1)))"
   ]
  },
  {
   "cell_type": "markdown",
   "id": "0c617027",
   "metadata": {},
   "source": [
    "### Program 10 : Mean, Var, and Std"
   ]
  },
  {
   "cell_type": "code",
   "execution_count": 10,
   "id": "faad4d83",
   "metadata": {},
   "outputs": [
    {
     "name": "stdout",
     "output_type": "stream",
     "text": [
      "2 2\n",
      "1 2\n",
      "3 4\n",
      "[ 1.5  3.5]\n",
      "[ 1.  1.]\n",
      "1.11803398875\n"
     ]
    }
   ],
   "source": [
    "import numpy\n",
    "n,m = map(int,input().split())\n",
    "ar = []\n",
    "for i in range(n):\n",
    "    tmp = list(map(int,input().split()))\n",
    "    ar.append(tmp)\n",
    "np_ar = numpy.array(ar)\n",
    "print(numpy.mean(np_ar,axis=1))\n",
    "print(numpy.var(np_ar,axis=0))\n",
    "print(numpy.std(np_ar,axis=None))"
   ]
  },
  {
   "cell_type": "markdown",
   "id": "87c7b868",
   "metadata": {},
   "source": [
    "### Program 11 : Dot and Cross"
   ]
  },
  {
   "cell_type": "code",
   "execution_count": 11,
   "id": "ebf5ee95",
   "metadata": {},
   "outputs": [
    {
     "name": "stdout",
     "output_type": "stream",
     "text": [
      "2\n",
      "1 2\n",
      "3 4\n",
      "1 2\n",
      "3 4\n",
      "[[ 7 10]\n",
      " [15 22]]\n"
     ]
    }
   ],
   "source": [
    "import numpy\n",
    "n = int(input())\n",
    "ar1 = []\n",
    "ar2 = []\n",
    "for i in range(n):\n",
    "    tmp = list(map(int,input().split()))\n",
    "    ar1.append(tmp)\n",
    "np_ar1 = numpy.array(ar1)\n",
    "for i in range(n):\n",
    "    tmp = list(map(int,input().split()))\n",
    "    ar2.append(tmp)\n",
    "np_ar2 = numpy.array(ar2)\n",
    "print(numpy.dot(np_ar1,np_ar2))"
   ]
  },
  {
   "cell_type": "markdown",
   "id": "baf58966",
   "metadata": {},
   "source": [
    "### Program 12 : Inner and Outer"
   ]
  },
  {
   "cell_type": "code",
   "execution_count": 12,
   "id": "eb8d8796",
   "metadata": {},
   "outputs": [
    {
     "name": "stdout",
     "output_type": "stream",
     "text": [
      "0 1\n",
      "2 3\n",
      "3\n",
      "[[0 0]\n",
      " [2 3]]\n"
     ]
    }
   ],
   "source": [
    "import numpy\n",
    "np_ar1 = numpy.array(list(map(int,input().split())))\n",
    "np_ar2 = numpy.array(list(map(int,input().split())))\n",
    "print(numpy.inner(np_ar1,np_ar2))\n",
    "print(numpy.outer(np_ar1,np_ar2))"
   ]
  },
  {
   "cell_type": "markdown",
   "id": "f6251848",
   "metadata": {},
   "source": [
    "### Program 13 : Polynomials"
   ]
  },
  {
   "cell_type": "code",
   "execution_count": 13,
   "id": "a9bba1b1",
   "metadata": {},
   "outputs": [
    {
     "name": "stdout",
     "output_type": "stream",
     "text": [
      "1.1 2 3\n",
      "0\n",
      "3.0\n"
     ]
    }
   ],
   "source": [
    "import numpy\n",
    "p = numpy.array(list(map(float,input().split())),float)\n",
    "x = float(input())\n",
    "print(numpy.polyval(p,x))"
   ]
  },
  {
   "cell_type": "markdown",
   "id": "695992e0",
   "metadata": {},
   "source": [
    "### Program 14 : Linear Algebra"
   ]
  },
  {
   "cell_type": "code",
   "execution_count": 14,
   "id": "8c3dbc89",
   "metadata": {},
   "outputs": [
    {
     "name": "stdout",
     "output_type": "stream",
     "text": [
      "2\n",
      "1.1 1.1 \n",
      "1.1 1.1\n",
      "0.0\n"
     ]
    }
   ],
   "source": [
    "import numpy as np\n",
    "np.set_printoptions(legacy='1.13')\n",
    "n = int(input())\n",
    "array = np.array([input().split() for _ in range(n)], float)\n",
    "print(np.linalg.det(array))"
   ]
  },
  {
   "cell_type": "markdown",
   "id": "b75aee49",
   "metadata": {},
   "source": [
    "## Thank You"
   ]
  }
 ],
 "metadata": {
  "kernelspec": {
   "display_name": "Python 3",
   "language": "python",
   "name": "python3"
  },
  "language_info": {
   "codemirror_mode": {
    "name": "ipython",
    "version": 3
   },
   "file_extension": ".py",
   "mimetype": "text/x-python",
   "name": "python",
   "nbconvert_exporter": "python",
   "pygments_lexer": "ipython3",
   "version": "3.8.8"
  }
 },
 "nbformat": 4,
 "nbformat_minor": 5
}

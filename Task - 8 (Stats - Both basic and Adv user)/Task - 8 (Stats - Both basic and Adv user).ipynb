{
 "cells": [
  {
   "cell_type": "markdown",
   "id": "06eeef52",
   "metadata": {},
   "source": [
    "## Author : Loka Akash Reddy\n",
    "### Innomatics Research Labs - Data Science October - 2021\n",
    "### Task 8 : Stats - Both basic and Adv user\n",
    "###  Kindly solve all the questions mentioned in this link: https://docs.google.com/document/d/1GU7LgovVpmY758x5WwThywlInohbgYTC8lTo0k0VWt4/edit?usp=sharing"
   ]
  },
  {
   "cell_type": "markdown",
   "id": "e316b831",
   "metadata": {},
   "source": [
    "### Problem 1 : Binomial Distribution I\n",
    "### Problem URL : https://www.hackerrank.com/challenges/s10-binomial-distribution-1"
   ]
  },
  {
   "cell_type": "code",
   "execution_count": 1,
   "id": "614ae837",
   "metadata": {},
   "outputs": [
    {
     "name": "stdout",
     "output_type": "stream",
     "text": [
      "1.09 1\n",
      "0.696\n"
     ]
    }
   ],
   "source": [
    "def factorial(n):\n",
    "    if n == 1 or n == 0:\n",
    "        return 1\n",
    "    if n > 1:\n",
    "        return factorial(n - 1) * n\n",
    "\n",
    "def binomial(x, n, p):\n",
    "    f = factorial(n) / (factorial(n - x) * factorial(x))\n",
    "    return (f * p**x * (1.0 - p)**(n-x))\n",
    "\n",
    "values = list(map(float, input().split()))\n",
    "p = values[0] / (values[0] + values[1])\n",
    "n = 6\n",
    "\n",
    "result = binomial(3,n,p) + binomial(4,n,p) + binomial(5,n,p) + binomial(6,n,p)\n",
    "print(round(result, 3))"
   ]
  },
  {
   "cell_type": "markdown",
   "id": "61ec41fc",
   "metadata": {},
   "source": [
    "### Problem 2 : Binomial Distribution II\n",
    "### Problem URL : https://www.hackerrank.com/challenges/s10-binomial-distribution-2"
   ]
  },
  {
   "cell_type": "code",
   "execution_count": 2,
   "id": "3b6bf254",
   "metadata": {},
   "outputs": [
    {
     "name": "stdout",
     "output_type": "stream",
     "text": [
      "12 10\n",
      "0.891\n",
      "0.342\n"
     ]
    }
   ],
   "source": [
    "def factorial(n):\n",
    "    if n == 1 or n == 0:\n",
    "        return 1\n",
    "    if n > 1:\n",
    "        return factorial(n - 1) * n\n",
    "\n",
    "def binomial(x, n, p):\n",
    "    f = factorial(n) / (factorial(n - x) * factorial(x))\n",
    "    return (f * p**x * (1.0 - p)**(n-x))\n",
    "\n",
    "values = list(map(float, input().split()))\n",
    "p = (values[0] / 100)\n",
    "n = int(values[1])\n",
    "\n",
    "no_more_than_2_rejects = 0\n",
    "for i in range(n):\n",
    "    if i < 3:\n",
    "        no_more_than_2_rejects = no_more_than_2_rejects + binomial(i, n, p)\n",
    "print(round(no_more_than_2_rejects, 3))\n",
    "\n",
    "at_least_2_rejects = 0\n",
    "for i in range(n):\n",
    "    if i > 1:\n",
    "        at_least_2_rejects = at_least_2_rejects + binomial(i, n, p)\n",
    "print(round(at_least_2_rejects, 3))"
   ]
  },
  {
   "cell_type": "markdown",
   "id": "d9fe33c7",
   "metadata": {},
   "source": [
    "### Problem 3 : Normal Distribution I\n",
    "### Problem URL : https://www.hackerrank.com/challenges/s10-normal-distribution-1"
   ]
  },
  {
   "cell_type": "code",
   "execution_count": 3,
   "id": "91a37783",
   "metadata": {},
   "outputs": [
    {
     "name": "stdout",
     "output_type": "stream",
     "text": [
      "20 2\n",
      "19.5\n",
      "20 22\n",
      "0.401\n",
      "0.341\n"
     ]
    }
   ],
   "source": [
    "import math\n",
    "\n",
    "def cumulative(mean, std, value):\n",
    "    return 0.5 * (1 + math.erf((value - mean) / (std * (2 ** 0.5))))\n",
    "\n",
    "initial_values = list(map(float, input().split()))\n",
    "mean = initial_values[0]\n",
    "std = initial_values[1]\n",
    "less_period = float(input())\n",
    "between_period = list(map(float, input().split()))\n",
    "\n",
    "print (round(cumulative(mean, std, less_period),3))\n",
    "print (round(cumulative(mean, std, between_period[1]) - cumulative(mean, std, between_period[0]), 3))"
   ]
  },
  {
   "cell_type": "markdown",
   "id": "85ff2497",
   "metadata": {},
   "source": [
    "### Problem 4 : Normal Distribution II\n",
    "### Problem URL : https://www.hackerrank.com/challenges/s10-normal-distribution-2"
   ]
  },
  {
   "cell_type": "code",
   "execution_count": 4,
   "id": "a41433f6",
   "metadata": {},
   "outputs": [
    {
     "name": "stdout",
     "output_type": "stream",
     "text": [
      "70 10\n",
      "80\n",
      "60\n",
      "15.87\n",
      "84.13\n",
      "15.87\n"
     ]
    }
   ],
   "source": [
    "import math\n",
    "\n",
    "def cumulative(mean, std, value):\n",
    "    return 0.5 * (1 + math.erf((value - mean) / (std * (2 ** 0.5))))\n",
    "\n",
    "initial_values = list(map(float, input().split()))\n",
    "mean = initial_values[0]\n",
    "std = initial_values[1]\n",
    "val_first_question = float(input())\n",
    "val_sec_third_question = float(input())\n",
    "\n",
    "print (round(100 - (cumulative(mean, std, val_first_question) * 100), 2))\n",
    "print (round(100 - (cumulative(mean, std, val_sec_third_question) * 100), 2))\n",
    "print (round(cumulative(mean, std, val_sec_third_question) * 100, 2))"
   ]
  },
  {
   "cell_type": "markdown",
   "id": "633605c9",
   "metadata": {},
   "source": [
    "### Problem 5 : The Central Limit Theorem I\n",
    "### Problem URL : https://www.hackerrank.com/challenges/s10-the-central-limit-theorem-1"
   ]
  },
  {
   "cell_type": "code",
   "execution_count": 5,
   "id": "99e06b99",
   "metadata": {},
   "outputs": [
    {
     "name": "stdout",
     "output_type": "stream",
     "text": [
      "9800\n",
      "49\n",
      "205\n",
      "15\n",
      "0.0098\n"
     ]
    }
   ],
   "source": [
    "import math\n",
    "\n",
    "def cumulative(mean, std, value):\n",
    "    return 0.5 * (1 + math.erf((value - mean) / (std * (2 ** 0.5))))\n",
    "\n",
    "max_weight = float(input())\n",
    "n = float(input())\n",
    "mean = float(input())\n",
    "std = float(input())\n",
    "\n",
    "new_mean = mean * n\n",
    "new_std = math.sqrt(n) * std\n",
    "\n",
    "print (round(cumulative(new_mean, new_std, max_weight),4))"
   ]
  },
  {
   "cell_type": "markdown",
   "id": "36afe8fc",
   "metadata": {},
   "source": [
    "### Problem 6 : The Central Limit Theorem II\n",
    "### Problem URL : https://www.hackerrank.com/challenges/s10-the-central-limit-theorem-2"
   ]
  },
  {
   "cell_type": "code",
   "execution_count": 6,
   "id": "74b7ac21",
   "metadata": {},
   "outputs": [
    {
     "name": "stdout",
     "output_type": "stream",
     "text": [
      "250\n",
      "100\n",
      "2.4\n",
      "2.0\n",
      "0.6915\n"
     ]
    }
   ],
   "source": [
    "import math\n",
    "\n",
    "def cumulative(mean, std, value):\n",
    "    return 0.5 * (1 + math.erf((value - mean) / (std * (2 ** 0.5))))\n",
    "\n",
    "max_weight = float(input())\n",
    "n = float(input())\n",
    "mean = float(input())\n",
    "std = float(input())\n",
    "\n",
    "new_mean = mean * n\n",
    "new_std = math.sqrt(n) * std\n",
    "\n",
    "print (round(cumulative(new_mean, new_std, max_weight),4))"
   ]
  },
  {
   "cell_type": "markdown",
   "id": "b65895d8",
   "metadata": {},
   "source": [
    "### Problem 7 : The Central Limit Theorem III\n",
    "### Problem URL : https://www.hackerrank.com/challenges/s10-the-central-limit-theorem-3"
   ]
  },
  {
   "cell_type": "code",
   "execution_count": 7,
   "id": "4dddb737",
   "metadata": {},
   "outputs": [
    {
     "name": "stdout",
     "output_type": "stream",
     "text": [
      "100\n",
      "500\n",
      "80\n",
      ".95\n",
      "1.96\n",
      "484.32\n",
      "515.68\n"
     ]
    }
   ],
   "source": [
    "import math\n",
    "\n",
    "n = float(input())\n",
    "mean = float(input())\n",
    "std = float(input())\n",
    "percent_ci = float(input())\n",
    "value_ci = float(input())\n",
    "\n",
    "ci = value_ci * (std / math.sqrt(n))\n",
    "\n",
    "print(round(mean - ci, 2))\n",
    "print(round(mean + ci, 2))"
   ]
  },
  {
   "cell_type": "markdown",
   "id": "26760495",
   "metadata": {},
   "source": [
    "### Problem 8 : Pearson Correlation Coefficient I\n",
    "### Problem URL : https://www.hackerrank.com/challenges/s10-pearson-correlation-coefficient"
   ]
  },
  {
   "cell_type": "code",
   "execution_count": 8,
   "id": "221e6d42",
   "metadata": {},
   "outputs": [
    {
     "name": "stdout",
     "output_type": "stream",
     "text": [
      "10\n",
      "10 9.8 8 7.8 7.7 7 6 5 4 2  \n",
      "200 44 32 24 22 17 15 12 8 4\n",
      "0.612\n"
     ]
    }
   ],
   "source": [
    "import statistics as st\n",
    "\n",
    "def correlation_coefficient(n, dt_x, dt_y):\n",
    "    mean_x = st.mean(dt_x)\n",
    "    mean_y = st.mean(dt_y)\n",
    "    std_x = st.pstdev(dt_x)\n",
    "    std_y = st.pstdev(dt_y)\n",
    "    c = 0\n",
    "    for i in range(n):\n",
    "        c = c + (dt_x[i] - mean_x) * (dt_y[i] - mean_y)\n",
    "    return c / (n * std_x * std_y)\n",
    "\n",
    "n = int(float(input()))\n",
    "data_set_x = list(map(float, input().split()))\n",
    "data_set_y = list(map(float, input().split()))\n",
    "\n",
    "print (round(correlation_coefficient(n, data_set_x, data_set_y), 3))"
   ]
  },
  {
   "cell_type": "markdown",
   "id": "e3708b15",
   "metadata": {},
   "source": [
    "### Problem 9 : Least Square Regression Line\n",
    "### Problem URL : https://www.hackerrank.com/challenges/s10-least-square-regression-line"
   ]
  },
  {
   "cell_type": "code",
   "execution_count": 9,
   "id": "1190748c",
   "metadata": {},
   "outputs": [
    {
     "name": "stdout",
     "output_type": "stream",
     "text": [
      "78.288\n"
     ]
    }
   ],
   "source": [
    "import statistics as st\n",
    "\n",
    "n = 5\n",
    "x = [95, 85, 80, 70, 60]\n",
    "y = [85, 95, 70, 65, 70]\n",
    "mean_x = st.mean(x)\n",
    "mean_y = st.mean(y)\n",
    "x_squared = sum([x[i] ** 2 for i in range(5)])\n",
    "xy = sum([x[i]*y[i] for i in range(5)])\n",
    "\n",
    "b = (n * xy - sum(x) * sum(y)) / (n * x_squared - (sum(x) ** 2))\n",
    "a = mean_y - b * mean_x\n",
    "\n",
    "print (round(a + 80 * b, 3))"
   ]
  },
  {
   "cell_type": "markdown",
   "id": "3b6f491c",
   "metadata": {},
   "source": [
    "### Problem 10 : Multiple Linear Regression\n",
    "### Problem URL : https://www.hackerrank.com/challenges/s10-multiple-linear-regression"
   ]
  },
  {
   "cell_type": "code",
   "execution_count": 10,
   "id": "e973b9d1",
   "metadata": {},
   "outputs": [
    {
     "name": "stdout",
     "output_type": "stream",
     "text": [
      "2 7\n",
      "0.18 0.89 109.85\n",
      "1.0 0.26 155.72\n",
      "0.92 0.11 137.66\n",
      "0.07 0.37 76.17\n",
      "0.85 0.16 139.75\n",
      "0.99 0.41 162.6\n",
      "0.87 0.47 151.77\n",
      "4\n",
      "0.49 0.18\n",
      "0.57 0.83\n",
      "0.56 0.64\n",
      "0.76 0.18\n",
      "105.21\n",
      "142.67\n",
      "132.94\n",
      "129.7\n"
     ]
    }
   ],
   "source": [
    "from sklearn import linear_model\n",
    "\n",
    "m, n = map(int, input().split())\n",
    "X, Y = [], []\n",
    "\n",
    "for i in range(n):\n",
    "    x = [0]\n",
    "    elements = list(map(float, input().split()))\n",
    "    for j in range(len(elements)):\n",
    "        if j < m:\n",
    "            x.append(elements[j])\n",
    "        else:\n",
    "            Y.append(elements[j])\n",
    "    X.append(x)\n",
    "\n",
    "model = linear_model.LinearRegression()\n",
    "model.fit(X, Y)\n",
    "a = model.intercept_\n",
    "b = model.coef_\n",
    "\n",
    "q = int(input())\n",
    "new_X = []\n",
    "for i in range(q):\n",
    "    x = [0]\n",
    "    elements = list(map(float, input().split()))\n",
    "    for j in range(len(elements)):\n",
    "        x.append(elements[j])\n",
    "    new_X.append(x)\n",
    "\n",
    "result = model.predict(new_X)\n",
    "for i in range(len(result)):\n",
    "    print(round(result[i],2))"
   ]
  },
  {
   "cell_type": "markdown",
   "id": "e0313d60",
   "metadata": {},
   "source": [
    "## Thank you"
   ]
  }
 ],
 "metadata": {
  "kernelspec": {
   "display_name": "Python 3",
   "language": "python",
   "name": "python3"
  },
  "language_info": {
   "codemirror_mode": {
    "name": "ipython",
    "version": 3
   },
   "file_extension": ".py",
   "mimetype": "text/x-python",
   "name": "python",
   "nbconvert_exporter": "python",
   "pygments_lexer": "ipython3",
   "version": "3.8.8"
  }
 },
 "nbformat": 4,
 "nbformat_minor": 5
}
